{
 "cells": [
  {
   "cell_type": "markdown",
   "id": "c2f8c0c5",
   "metadata": {},
   "source": [
    "Making a Dashboard using Dash and Plotly to research the representation that UMAP gives of a dataset"
   ]
  },
  {
   "cell_type": "code",
   "execution_count": 1,
   "id": "fc733b14",
   "metadata": {},
   "outputs": [],
   "source": [
    "import pandas as pd\n",
    "import numpy as np\n",
    "from jupyter_dash import JupyterDash\n",
    "from dash import html\n",
    "from dash.dependencies import Input, Output, State\n",
    "from dash.exceptions import PreventUpdate"
   ]
  },
  {
   "cell_type": "code",
   "execution_count": 2,
   "id": "5a907f50",
   "metadata": {},
   "outputs": [],
   "source": [
    "from sklearn.preprocessing import StandardScaler"
   ]
  },
  {
   "cell_type": "code",
   "execution_count": 3,
   "id": "2deb4e30",
   "metadata": {},
   "outputs": [
    {
     "data": {
      "text/plain": [
       "'3.9.12 (main, Apr  5 2022, 06:56:58) \\n[GCC 7.5.0]'"
      ]
     },
     "execution_count": 3,
     "metadata": {},
     "output_type": "execute_result"
    }
   ],
   "source": [
    "import sys\n",
    "sys.version"
   ]
  },
  {
   "cell_type": "code",
   "execution_count": 4,
   "id": "cdec9981",
   "metadata": {},
   "outputs": [],
   "source": [
    "import plotly.express as px"
   ]
  },
  {
   "cell_type": "code",
   "execution_count": 5,
   "id": "43ab43c6",
   "metadata": {},
   "outputs": [],
   "source": [
    "import dash\n",
    "from jupyter_dash import JupyterDash\n",
    "from dash import dcc, ctx\n",
    "import dash_daq as daq"
   ]
  },
  {
   "cell_type": "code",
   "execution_count": 6,
   "id": "bb19df34",
   "metadata": {},
   "outputs": [],
   "source": [
    "import plotly\n",
    "from plotly.subplots import make_subplots\n",
    "import plotly.graph_objects as go"
   ]
  },
  {
   "cell_type": "code",
   "execution_count": 7,
   "id": "0cdcc1ef",
   "metadata": {},
   "outputs": [],
   "source": [
    "from sklearn.datasets import load_breast_cancer, load_iris"
   ]
  },
  {
   "cell_type": "code",
   "execution_count": 8,
   "id": "363d889b",
   "metadata": {},
   "outputs": [],
   "source": [
    "bc = load_iris()\n",
    "breast_cancer_df = pd.DataFrame(bc.data, columns=bc.feature_names)\n",
    "breast_cancer_df['target'] = bc.target"
   ]
  },
  {
   "cell_type": "code",
   "execution_count": 9,
   "id": "6ff41c8c",
   "metadata": {},
   "outputs": [],
   "source": [
    "toy_df = breast_cancer_df#pd.read_csv('./data/archive/diabetes.csv')"
   ]
  },
  {
   "cell_type": "code",
   "execution_count": 10,
   "id": "ee5f4009",
   "metadata": {},
   "outputs": [],
   "source": [
    "import umap"
   ]
  },
  {
   "cell_type": "code",
   "execution_count": 11,
   "id": "9d704d86",
   "metadata": {},
   "outputs": [],
   "source": [
    "# categorical and numeric columns differently"
   ]
  },
  {
   "cell_type": "code",
   "execution_count": 14,
   "id": "6f0266de",
   "metadata": {},
   "outputs": [
    {
     "name": "stdout",
     "output_type": "stream",
     "text": [
      "Dash app running on http://127.0.0.3:8050/\n",
      "lala\n"
     ]
    }
   ],
   "source": [
    "app = JupyterDash(__name__)\n",
    "label_value_pairs = [{'label': x, 'value': x} for x in toy_df.columns]\n",
    "colors = ['blue', 'red', 'green', 'purple', 'orange', 'cyan', 'magenta']\n",
    "\n",
    "\n",
    "app.layout = html.Div([\n",
    "    dcc.Store(id='umap_data'),\n",
    "    html.Div([\n",
    "        html.Div(dcc.Graph(id='main_graph'), className=\"six columns\",\n",
    "                style={'display': 'inline-block'}\n",
    "                ),\n",
    "        html.Div(dcc.Graph(id='corr_graph', figure=px.imshow(toy_df.corr())), className=\"six columns\",\n",
    "                style={'display': 'inline-block'}\n",
    "            )], className=\"row\"),\n",
    "    dcc.Dropdown(\n",
    "            id = 'graph_x', \n",
    "            options = label_value_pairs,\n",
    "            value = toy_df.columns[0]\n",
    "        ),\n",
    "    dcc.Dropdown(\n",
    "            id = 'graph_y', \n",
    "            options = label_value_pairs,\n",
    "            value = toy_df.columns[1]\n",
    "        ),\n",
    "    dcc.Dropdown(\n",
    "            id = 'maingraph_color', \n",
    "            options = label_value_pairs,\n",
    "            #value = 'Age'\n",
    "        ),\n",
    "    dcc.Checklist(\n",
    "        options=list(toy_df.columns),\n",
    "        value=list(toy_df.columns),\n",
    "        id='umap_input'\n",
    "    ),\n",
    "    html.Div(dcc.Graph(id='umapped_graph'), \n",
    "            style={}\n",
    "            ),\n",
    "    daq.ToggleSwitch(\n",
    "        id='switch-2d3d',\n",
    "        label='2D - 3D',\n",
    "        labelPosition='bottom'\n",
    "    ),\n",
    "    dcc.Dropdown(\n",
    "            id = 'umap_color', \n",
    "            options = label_value_pairs,\n",
    "            #value = 'Age'\n",
    "        ),\n",
    "    dcc.Slider(1,100, 1, value=12, \n",
    "        marks=None, id='n_neighbors_slider',  \n",
    "        tooltip={\"placement\": \"bottom\", \"always_visible\": True}\n",
    "    ),\n",
    "    html.Div(dcc.Graph(\n",
    "        id='violin_plot'\n",
    "        ), \n",
    "            style={}\n",
    "            ),\n",
    "    dcc.Checklist(\n",
    "        options=list(toy_df.columns),\n",
    "        value=list(toy_df.columns),\n",
    "        id='violin_colums'\n",
    "    ),\n",
    "    dcc.Dropdown(\n",
    "        id='boxplot_color',\n",
    "        options = label_value_pairs\n",
    "    )\n",
    "])\n",
    "\n",
    "@app.callback(\n",
    "    Output('corr_graph', 'figure'),\n",
    "    Input('maingraph_color', 'value')\n",
    ")\n",
    "def plot_heatmap(maingraph_value):\n",
    "    if maingraph_value is None:\n",
    "        raise PreventUpdate\n",
    "\n",
    "    categories = toy_df[maingraph_value].unique()\n",
    "    print('lala')\n",
    "    if len(categories)<7:\n",
    "        fig = make_subplots(\n",
    "            cols=len(toy_df[maingraph_value].unique())+1, \n",
    "            rows=1, \n",
    "            #subplot_titles=[' '] + categories,\n",
    "            #horizontal_spacing=0.05,\n",
    "            #shared_yaxes=True,\n",
    "            specs=[[{\"colspan\": 0},{\"colspan\": 1}, {\"colspan\": 1}, {\"colspan\": 1}]]\n",
    "            )\n",
    "        for i, cat in enumerate(categories):\n",
    "            corr_df = toy_df[toy_df[maingraph_value] == cat].corr()\n",
    "            fig.add_trace(\n",
    "                go.Heatmap(\n",
    "                    z=corr_df, \n",
    "                    y=corr_df.columns,\n",
    "                    x=corr_df.columns,\n",
    "                    coloraxis = \"coloraxis\"\n",
    "                ),\n",
    "                col=2+i, row = 1)\n",
    "\n",
    "    #categories = toy_df[maingraph_value].unique()\n",
    "    #if len(categories)<7:\n",
    "    #    fig = make_subplots(\n",
    "    #        cols=len(toy_df[maingraph_value].unique()), \n",
    "    #        rows=1, \n",
    "    #        subplot_titles=categories\n",
    "    #        )\n",
    "    #    for i, cat in enumerate(categories):\n",
    "    #        fig.add_trace(\n",
    "    #            go.Heatmap(\n",
    "    #                z=toy_df[toy_df[maingraph_value] == cat].corr(), \n",
    "    #                y=toy_df[toy_df[maingraph_value] == cat].columns,\n",
    "    #                x = toy_df[toy_df[maingraph_value] == cat].columns\n",
    "    #            ),\n",
    "    #            col=1+i, row = 1)\n",
    "        return fig\n",
    "    else:\n",
    "        return px.imshow(toy_df.corr())\n",
    "\n",
    "\n",
    "\n",
    "@app.callback(\n",
    "    Output('graph_y', 'value'),\n",
    "    Input('corr_graph', 'clickData')\n",
    ")\n",
    "def update_y_box(click_data):\n",
    "    if click_data:\n",
    "        return click_data['points'][0]['y']\n",
    "    else:\n",
    "        raise PreventUpdate\n",
    "@app.callback(\n",
    "    Output('graph_x', 'value'),\n",
    "    Input('corr_graph', 'clickData')\n",
    ")\n",
    "def update_y_box(click_data):\n",
    "    if click_data:\n",
    "        return click_data['points'][0]['x']\n",
    "    else:\n",
    "        raise PreventUpdate\n",
    "\n",
    "\n",
    "\n",
    "@app.callback(\n",
    "    Output('violin_plot', 'figure'),\n",
    "    [\n",
    "        Input('violin_colums', 'value'), \n",
    "        Input('boxplot_color', 'value'),\n",
    "        Input(\"umapped_graph\", \"hoverData\")\n",
    "        ]\n",
    ")\n",
    "def make_violin_plot(columns, color, hover):\n",
    "    \n",
    "    \n",
    "\n",
    "    fig = make_subplots(rows=1, cols=len(columns), subplot_titles=columns)\n",
    "    \n",
    "    if color:\n",
    "        colornames = toy_df[color].unique()\n",
    "        if len(colornames) < 6:\n",
    "        \n",
    "            for j, column in enumerate(columns):\n",
    "                for i, c in enumerate(colornames):\n",
    "                    df_plot = toy_df[toy_df[color] == c][columns]\n",
    "                    fig.add_trace(\n",
    "                        go.Box(\n",
    "                            y=df_plot[column], \n",
    "                            name=str(c), \n",
    "                            showlegend= j == 0,\n",
    "                            legendgroup=str(c),\n",
    "                            marker_color=colors[i]\n",
    "                            ), row = 1, col = j+1\n",
    "                )\n",
    "                if hover:\n",
    "                    hover_idx = hover['points'][0]['customdata'][0]\n",
    "                    val = toy_df.loc[hover_idx][column]\n",
    "                    fig.add_hline(val, row = 1, col = j+1)\n",
    "\n",
    "            return fig\n",
    "\n",
    "       \n",
    "    df = toy_df[columns]\n",
    "\n",
    "    for j, column in enumerate(columns):\n",
    "\n",
    "        fig.add_trace(\n",
    "            go.Box(y=df[column], name=column),\n",
    "            row = 1, col = j+1\n",
    "        )\n",
    "\n",
    "        if hover:\n",
    "            hover_idx = hover['points'][0]['customdata'][0]\n",
    "            val = toy_df.loc[hover_idx][column]\n",
    "            fig.add_hline(val, row = 1, col = j+1)\n",
    "    return fig \n",
    "\n",
    "\n",
    "@app.callback(\n",
    "    Output('main_graph', 'figure'),\n",
    "    [\n",
    "        Input(\"umapped_graph\", \"hoverData\"), \n",
    "        Input(\"umapped_graph\", \"selectedData\"),\n",
    "        Input('graph_x', 'value'), \n",
    "        Input('graph_y', 'value'),\n",
    "        Input('maingraph_color', 'value')\n",
    "        ],\n",
    "    State('main_graph', 'figure')\n",
    ")\n",
    "def update_sampletext(hover, selected_data, valuex, valuey, c, fig):\n",
    "    \"\"\"update the main graph to display the dataframe based on columns (valuex) and {valuey}\"\"\"\n",
    "\n",
    "    triggered_id = ctx.triggered_id if not None else 'No clicks yet'\n",
    "    df= toy_df\n",
    "    if c and len(df[c].unique())<7:\n",
    "        df[c] = df[c].astype(str)\n",
    "\n",
    "\n",
    "    if (fig is None) or (triggered_id in ['graph_x', 'graph_y', 'maingraph_color']):\n",
    "        fig = px.scatter(toy_df, x=valuex, y =valuey, color=c)\n",
    "    elif selected_data:\n",
    "        fig = go.Figure(fig)\n",
    "        df['idx'] = df.index\n",
    "        df['selected'] = df['idx'].isin(selected_data)\n",
    "\n",
    "        #print(selected_data)\n",
    "        selected_data = [x['customdata'][0] for x in selected_data['points']]\n",
    "        print(selected_data)\n",
    "\n",
    "        #todo: don't want to alter df\n",
    "        df['selected'] = df['idx'].isin(selected_data)\n",
    "        df['opacity'] = df['selected'].apply(lambda x: 1 if x else 0.15)\n",
    "\n",
    "        print(df['selected'])\n",
    "        fig = px.scatter(toy_df, x=valuex, y =valuey, color=c, opacity='opacity')\n",
    "\n",
    "        #todo: this part does not work\n",
    "        #fig.update_traces(\n",
    "        #    selectedpoints=selected_data,\n",
    "            #customdata=df.index,\n",
    "            #mode='markers+text', \n",
    "            #marker={ 'color': 'rgba(0, 116, 217, 0.7)', 'size': 20 }, \n",
    "        #    unselected={'marker': { 'opacity': 0.15 }}\n",
    "        #    )\n",
    "    else:\n",
    "        hover_idx = hover['points'][0]['customdata'][0]\n",
    "        hover_x, hover_y = toy_df.loc[hover_idx][[valuex, valuey]]\n",
    "\n",
    "        if len(fig['data']) > 1 and triggered_id=='umapped_graph' and len(fig['data'][-1]['x'])==1:\n",
    "\n",
    "            del fig['data'][-1]\n",
    "\n",
    "        fig = go.Figure(fig)\n",
    "        fig.add_trace(\n",
    "            go.Scatter(\n",
    "                x=[hover_x], \n",
    "                y=[hover_y], \n",
    "                mode='markers', \n",
    "                marker_symbol =  'star', \n",
    "                marker_size=12)\n",
    "            )\n",
    "\n",
    "\n",
    "\n",
    "    \n",
    "    return fig\n",
    "\n",
    "\n",
    "@app.callback(\n",
    "    Output('umap_data', 'data'),\n",
    "    [\n",
    "        Input('n_neighbors_slider', 'value'),\n",
    "        Input('umap_input', 'value'),\n",
    "        Input('switch-2d3d', 'value')\n",
    "        ]\n",
    ")\n",
    "def store_umap_transfo(n_neighbors, umap_input, switch_3d):\n",
    "    \"\"\"get the projection from the umap algorithm and store it\"\"\"\n",
    "\n",
    "    df = toy_df[umap_input]\n",
    "\n",
    "\n",
    "    scaled_array = StandardScaler().fit_transform(df)\n",
    "    df = pd.DataFrame(scaled_array, columns=df.columns)\n",
    "\n",
    "    mapper = umap.UMAP(\n",
    "        n_neighbors=n_neighbors,\n",
    "        n_components=3 if switch_3d else 2, \n",
    "        random_state=88\n",
    "        ).fit(df)\n",
    "        \n",
    "    umapped_df = pd.DataFrame(mapper.transform(df), index=df.index)\n",
    "    \n",
    "\n",
    "    umapped_df['idx'] = umapped_df.index\n",
    "    df = umapped_df.join(toy_df)\n",
    "\n",
    "\n",
    "    return df.to_dict()\n",
    "\n",
    "\n",
    "@app.callback(\n",
    "    Output('umapped_graph', 'figure'),\n",
    "    [\n",
    "        Input('umap_color', 'value'), \n",
    "        Input('umap_data', 'data')\n",
    "        ]\n",
    ")\n",
    "def update_umapped(umap_color, umap_data):\n",
    "    \"\"\"update the umap graph without computing the umap projection\"\"\"\n",
    "\n",
    "    df = pd.DataFrame.from_dict(umap_data)\n",
    "\n",
    "    if umap_color and len(df[umap_color].unique()) < 6:\n",
    "        df[umap_color] = df[umap_color].astype(str)\n",
    "\n",
    "    if '2' in df.columns:\n",
    "        # 3d rendering because umap gave columns 0, 1, and 2\n",
    "        fig = px.scatter_3d(\n",
    "            df,\n",
    "            x='0', y='1', z='2',\n",
    "            hover_data=df.columns,\n",
    "            color = umap_color\n",
    "        )\n",
    "    else:\n",
    "        fig =  px.scatter(\n",
    "            df, \n",
    "            x='0', y='1', \n",
    "            hover_data=df.columns,\n",
    "            color = umap_color)\n",
    "        fig.update_layout(margin={'l': 20, 'r': 0, 'b': 15, 't': 5}, dragmode='select')\n",
    "\n",
    "    return fig\n",
    "\n",
    "\n",
    "if __name__ == '__main__':\n",
    "    app.run_server(\n",
    "        debug=True, host='127.0.0.3'\n",
    "    )\n"
   ]
  },
  {
   "cell_type": "code",
   "execution_count": 15,
   "id": "8740e8e4",
   "metadata": {},
   "outputs": [
    {
     "data": {
      "text/html": [
       "<div>\n",
       "<style scoped>\n",
       "    .dataframe tbody tr th:only-of-type {\n",
       "        vertical-align: middle;\n",
       "    }\n",
       "\n",
       "    .dataframe tbody tr th {\n",
       "        vertical-align: top;\n",
       "    }\n",
       "\n",
       "    .dataframe thead th {\n",
       "        text-align: right;\n",
       "    }\n",
       "</style>\n",
       "<table border=\"1\" class=\"dataframe\">\n",
       "  <thead>\n",
       "    <tr style=\"text-align: right;\">\n",
       "      <th></th>\n",
       "      <th>sepal length (cm)</th>\n",
       "      <th>sepal width (cm)</th>\n",
       "      <th>petal length (cm)</th>\n",
       "      <th>petal width (cm)</th>\n",
       "      <th>target</th>\n",
       "      <th>idx</th>\n",
       "      <th>selected</th>\n",
       "      <th>opacity</th>\n",
       "    </tr>\n",
       "  </thead>\n",
       "  <tbody>\n",
       "    <tr>\n",
       "      <th>0</th>\n",
       "      <td>5.1</td>\n",
       "      <td>3.5</td>\n",
       "      <td>1.4</td>\n",
       "      <td>0.2</td>\n",
       "      <td>0</td>\n",
       "      <td>0</td>\n",
       "      <td>False</td>\n",
       "      <td>0.15</td>\n",
       "    </tr>\n",
       "    <tr>\n",
       "      <th>1</th>\n",
       "      <td>4.9</td>\n",
       "      <td>3.0</td>\n",
       "      <td>1.4</td>\n",
       "      <td>0.2</td>\n",
       "      <td>0</td>\n",
       "      <td>1</td>\n",
       "      <td>False</td>\n",
       "      <td>0.15</td>\n",
       "    </tr>\n",
       "    <tr>\n",
       "      <th>2</th>\n",
       "      <td>4.7</td>\n",
       "      <td>3.2</td>\n",
       "      <td>1.3</td>\n",
       "      <td>0.2</td>\n",
       "      <td>0</td>\n",
       "      <td>2</td>\n",
       "      <td>False</td>\n",
       "      <td>0.15</td>\n",
       "    </tr>\n",
       "    <tr>\n",
       "      <th>3</th>\n",
       "      <td>4.6</td>\n",
       "      <td>3.1</td>\n",
       "      <td>1.5</td>\n",
       "      <td>0.2</td>\n",
       "      <td>0</td>\n",
       "      <td>3</td>\n",
       "      <td>False</td>\n",
       "      <td>0.15</td>\n",
       "    </tr>\n",
       "    <tr>\n",
       "      <th>4</th>\n",
       "      <td>5.0</td>\n",
       "      <td>3.6</td>\n",
       "      <td>1.4</td>\n",
       "      <td>0.2</td>\n",
       "      <td>0</td>\n",
       "      <td>4</td>\n",
       "      <td>False</td>\n",
       "      <td>0.15</td>\n",
       "    </tr>\n",
       "    <tr>\n",
       "      <th>...</th>\n",
       "      <td>...</td>\n",
       "      <td>...</td>\n",
       "      <td>...</td>\n",
       "      <td>...</td>\n",
       "      <td>...</td>\n",
       "      <td>...</td>\n",
       "      <td>...</td>\n",
       "      <td>...</td>\n",
       "    </tr>\n",
       "    <tr>\n",
       "      <th>145</th>\n",
       "      <td>6.7</td>\n",
       "      <td>3.0</td>\n",
       "      <td>5.2</td>\n",
       "      <td>2.3</td>\n",
       "      <td>2</td>\n",
       "      <td>145</td>\n",
       "      <td>True</td>\n",
       "      <td>1.00</td>\n",
       "    </tr>\n",
       "    <tr>\n",
       "      <th>146</th>\n",
       "      <td>6.3</td>\n",
       "      <td>2.5</td>\n",
       "      <td>5.0</td>\n",
       "      <td>1.9</td>\n",
       "      <td>2</td>\n",
       "      <td>146</td>\n",
       "      <td>True</td>\n",
       "      <td>1.00</td>\n",
       "    </tr>\n",
       "    <tr>\n",
       "      <th>147</th>\n",
       "      <td>6.5</td>\n",
       "      <td>3.0</td>\n",
       "      <td>5.2</td>\n",
       "      <td>2.0</td>\n",
       "      <td>2</td>\n",
       "      <td>147</td>\n",
       "      <td>True</td>\n",
       "      <td>1.00</td>\n",
       "    </tr>\n",
       "    <tr>\n",
       "      <th>148</th>\n",
       "      <td>6.2</td>\n",
       "      <td>3.4</td>\n",
       "      <td>5.4</td>\n",
       "      <td>2.3</td>\n",
       "      <td>2</td>\n",
       "      <td>148</td>\n",
       "      <td>True</td>\n",
       "      <td>1.00</td>\n",
       "    </tr>\n",
       "    <tr>\n",
       "      <th>149</th>\n",
       "      <td>5.9</td>\n",
       "      <td>3.0</td>\n",
       "      <td>5.1</td>\n",
       "      <td>1.8</td>\n",
       "      <td>2</td>\n",
       "      <td>149</td>\n",
       "      <td>True</td>\n",
       "      <td>1.00</td>\n",
       "    </tr>\n",
       "  </tbody>\n",
       "</table>\n",
       "<p>150 rows × 8 columns</p>\n",
       "</div>"
      ],
      "text/plain": [
       "     sepal length (cm)  sepal width (cm)  petal length (cm)  petal width (cm)  \\\n",
       "0                  5.1               3.5                1.4               0.2   \n",
       "1                  4.9               3.0                1.4               0.2   \n",
       "2                  4.7               3.2                1.3               0.2   \n",
       "3                  4.6               3.1                1.5               0.2   \n",
       "4                  5.0               3.6                1.4               0.2   \n",
       "..                 ...               ...                ...               ...   \n",
       "145                6.7               3.0                5.2               2.3   \n",
       "146                6.3               2.5                5.0               1.9   \n",
       "147                6.5               3.0                5.2               2.0   \n",
       "148                6.2               3.4                5.4               2.3   \n",
       "149                5.9               3.0                5.1               1.8   \n",
       "\n",
       "    target  idx  selected  opacity  \n",
       "0        0    0     False     0.15  \n",
       "1        0    1     False     0.15  \n",
       "2        0    2     False     0.15  \n",
       "3        0    3     False     0.15  \n",
       "4        0    4     False     0.15  \n",
       "..     ...  ...       ...      ...  \n",
       "145      2  145      True     1.00  \n",
       "146      2  146      True     1.00  \n",
       "147      2  147      True     1.00  \n",
       "148      2  148      True     1.00  \n",
       "149      2  149      True     1.00  \n",
       "\n",
       "[150 rows x 8 columns]"
      ]
     },
     "execution_count": 15,
     "metadata": {},
     "output_type": "execute_result"
    }
   ],
   "source": [
    "toy_df"
   ]
  },
  {
   "cell_type": "code",
   "execution_count": 13,
   "id": "a81f326f",
   "metadata": {},
   "outputs": [
    {
     "data": {
      "text/plain": [
       "'2.6.1'"
      ]
     },
     "execution_count": 13,
     "metadata": {},
     "output_type": "execute_result"
    },
    {
     "name": "stdout",
     "output_type": "stream",
     "text": [
      "lala\n",
      "[100, 101, 102, 103, 104, 105, 106, 107, 108, 109, 110, 111, 112, 113, 114, 115, 116, 117, 118, 119, 120, 121, 122, 123, 124, 125, 126, 127, 128, 129, 130, 131, 132, 133, 134, 135, 136, 137, 138, 139, 140, 141, 142, 143, 144, 145, 146, 147, 148, 149]\n",
      "0      False\n",
      "1      False\n",
      "2      False\n",
      "3      False\n",
      "4      False\n",
      "       ...  \n",
      "145     True\n",
      "146     True\n",
      "147     True\n",
      "148     True\n",
      "149     True\n",
      "Name: selected, Length: 150, dtype: bool\n"
     ]
    }
   ],
   "source": [
    "dash.__version__"
   ]
  },
  {
   "cell_type": "code",
   "execution_count": 32,
   "id": "b7fc4970",
   "metadata": {},
   "outputs": [
    {
     "data": {
      "text/html": [
       "<div>\n",
       "<style scoped>\n",
       "    .dataframe tbody tr th:only-of-type {\n",
       "        vertical-align: middle;\n",
       "    }\n",
       "\n",
       "    .dataframe tbody tr th {\n",
       "        vertical-align: top;\n",
       "    }\n",
       "\n",
       "    .dataframe thead th {\n",
       "        text-align: right;\n",
       "    }\n",
       "</style>\n",
       "<table border=\"1\" class=\"dataframe\">\n",
       "  <thead>\n",
       "    <tr style=\"text-align: right;\">\n",
       "      <th></th>\n",
       "      <th>sepal length (cm)</th>\n",
       "      <th>sepal width (cm)</th>\n",
       "      <th>petal length (cm)</th>\n",
       "      <th>petal width (cm)</th>\n",
       "      <th>target</th>\n",
       "    </tr>\n",
       "  </thead>\n",
       "  <tbody>\n",
       "    <tr>\n",
       "      <th>0</th>\n",
       "      <td>5.1</td>\n",
       "      <td>3.5</td>\n",
       "      <td>1.4</td>\n",
       "      <td>0.2</td>\n",
       "      <td>0</td>\n",
       "    </tr>\n",
       "    <tr>\n",
       "      <th>1</th>\n",
       "      <td>4.9</td>\n",
       "      <td>3.0</td>\n",
       "      <td>1.4</td>\n",
       "      <td>0.2</td>\n",
       "      <td>0</td>\n",
       "    </tr>\n",
       "    <tr>\n",
       "      <th>2</th>\n",
       "      <td>4.7</td>\n",
       "      <td>3.2</td>\n",
       "      <td>1.3</td>\n",
       "      <td>0.2</td>\n",
       "      <td>0</td>\n",
       "    </tr>\n",
       "    <tr>\n",
       "      <th>3</th>\n",
       "      <td>4.6</td>\n",
       "      <td>3.1</td>\n",
       "      <td>1.5</td>\n",
       "      <td>0.2</td>\n",
       "      <td>0</td>\n",
       "    </tr>\n",
       "    <tr>\n",
       "      <th>4</th>\n",
       "      <td>5.0</td>\n",
       "      <td>3.6</td>\n",
       "      <td>1.4</td>\n",
       "      <td>0.2</td>\n",
       "      <td>0</td>\n",
       "    </tr>\n",
       "    <tr>\n",
       "      <th>...</th>\n",
       "      <td>...</td>\n",
       "      <td>...</td>\n",
       "      <td>...</td>\n",
       "      <td>...</td>\n",
       "      <td>...</td>\n",
       "    </tr>\n",
       "    <tr>\n",
       "      <th>145</th>\n",
       "      <td>6.7</td>\n",
       "      <td>3.0</td>\n",
       "      <td>5.2</td>\n",
       "      <td>2.3</td>\n",
       "      <td>2</td>\n",
       "    </tr>\n",
       "    <tr>\n",
       "      <th>146</th>\n",
       "      <td>6.3</td>\n",
       "      <td>2.5</td>\n",
       "      <td>5.0</td>\n",
       "      <td>1.9</td>\n",
       "      <td>2</td>\n",
       "    </tr>\n",
       "    <tr>\n",
       "      <th>147</th>\n",
       "      <td>6.5</td>\n",
       "      <td>3.0</td>\n",
       "      <td>5.2</td>\n",
       "      <td>2.0</td>\n",
       "      <td>2</td>\n",
       "    </tr>\n",
       "    <tr>\n",
       "      <th>148</th>\n",
       "      <td>6.2</td>\n",
       "      <td>3.4</td>\n",
       "      <td>5.4</td>\n",
       "      <td>2.3</td>\n",
       "      <td>2</td>\n",
       "    </tr>\n",
       "    <tr>\n",
       "      <th>149</th>\n",
       "      <td>5.9</td>\n",
       "      <td>3.0</td>\n",
       "      <td>5.1</td>\n",
       "      <td>1.8</td>\n",
       "      <td>2</td>\n",
       "    </tr>\n",
       "  </tbody>\n",
       "</table>\n",
       "<p>150 rows × 5 columns</p>\n",
       "</div>"
      ],
      "text/plain": [
       "     sepal length (cm)  sepal width (cm)  petal length (cm)  petal width (cm)  \\\n",
       "0                  5.1               3.5                1.4               0.2   \n",
       "1                  4.9               3.0                1.4               0.2   \n",
       "2                  4.7               3.2                1.3               0.2   \n",
       "3                  4.6               3.1                1.5               0.2   \n",
       "4                  5.0               3.6                1.4               0.2   \n",
       "..                 ...               ...                ...               ...   \n",
       "145                6.7               3.0                5.2               2.3   \n",
       "146                6.3               2.5                5.0               1.9   \n",
       "147                6.5               3.0                5.2               2.0   \n",
       "148                6.2               3.4                5.4               2.3   \n",
       "149                5.9               3.0                5.1               1.8   \n",
       "\n",
       "    target  \n",
       "0        0  \n",
       "1        0  \n",
       "2        0  \n",
       "3        0  \n",
       "4        0  \n",
       "..     ...  \n",
       "145      2  \n",
       "146      2  \n",
       "147      2  \n",
       "148      2  \n",
       "149      2  \n",
       "\n",
       "[150 rows x 5 columns]"
      ]
     },
     "execution_count": 32,
     "metadata": {},
     "output_type": "execute_result"
    }
   ],
   "source": [
    "toy_df"
   ]
  },
  {
   "cell_type": "code",
   "execution_count": 28,
   "id": "b9ebbb38",
   "metadata": {},
   "outputs": [
    {
     "data": {
      "text/plain": [
       "sepal length (cm)    6.3\n",
       "sepal width (cm)     3.4\n",
       "petal length (cm)    5.6\n",
       "petal width (cm)     2.4\n",
       "target                 2\n",
       "Name: 136, dtype: object"
      ]
     },
     "execution_count": 28,
     "metadata": {},
     "output_type": "execute_result"
    }
   ],
   "source": [
    "toy_df.loc[136]"
   ]
  },
  {
   "cell_type": "code",
   "execution_count": null,
   "id": "307e1b9d",
   "metadata": {},
   "outputs": [
    {
     "data": {
      "application/vnd.plotly.v1+json": {
       "config": {
        "plotlyServerURL": "https://plot.ly"
       },
       "data": [
        {
         "coloraxis": "coloraxis",
         "hovertemplate": "x: %{x}<br>y: %{y}<br>color: %{z}<extra></extra>",
         "name": "0",
         "type": "heatmap",
         "x": [
          "sepal length (cm)",
          "sepal width (cm)",
          "petal length (cm)",
          "petal width (cm)",
          "target"
         ],
         "xaxis": "x",
         "y": [
          "sepal length (cm)",
          "sepal width (cm)",
          "petal length (cm)",
          "petal width (cm)",
          "target"
         ],
         "yaxis": "y",
         "z": [
          [
           1,
           -0.11756978413300088,
           0.8717537758865838,
           0.8179411262715758,
           0.7825612318100821
          ],
          [
           -0.11756978413300088,
           1,
           -0.42844010433053864,
           -0.3661259325364377,
           -0.42665756078112294
          ],
          [
           0.8717537758865838,
           -0.42844010433053864,
           1,
           0.962865431402796,
           0.9490346990083889
          ],
          [
           0.8179411262715758,
           -0.3661259325364377,
           0.962865431402796,
           1,
           0.9565473328764024
          ],
          [
           0.7825612318100821,
           -0.42665756078112294,
           0.9490346990083889,
           0.9565473328764024,
           1
          ]
         ]
        }
       ],
       "layout": {
        "coloraxis": {
         "colorscale": [
          [
           0,
           "#0d0887"
          ],
          [
           0.1111111111111111,
           "#46039f"
          ],
          [
           0.2222222222222222,
           "#7201a8"
          ],
          [
           0.3333333333333333,
           "#9c179e"
          ],
          [
           0.4444444444444444,
           "#bd3786"
          ],
          [
           0.5555555555555556,
           "#d8576b"
          ],
          [
           0.6666666666666666,
           "#ed7953"
          ],
          [
           0.7777777777777778,
           "#fb9f3a"
          ],
          [
           0.8888888888888888,
           "#fdca26"
          ],
          [
           1,
           "#f0f921"
          ]
         ]
        },
        "margin": {
         "t": 60
        },
        "template": {
         "data": {
          "bar": [
           {
            "error_x": {
             "color": "#2a3f5f"
            },
            "error_y": {
             "color": "#2a3f5f"
            },
            "marker": {
             "line": {
              "color": "#E5ECF6",
              "width": 0.5
             },
             "pattern": {
              "fillmode": "overlay",
              "size": 10,
              "solidity": 0.2
             }
            },
            "type": "bar"
           }
          ],
          "barpolar": [
           {
            "marker": {
             "line": {
              "color": "#E5ECF6",
              "width": 0.5
             },
             "pattern": {
              "fillmode": "overlay",
              "size": 10,
              "solidity": 0.2
             }
            },
            "type": "barpolar"
           }
          ],
          "carpet": [
           {
            "aaxis": {
             "endlinecolor": "#2a3f5f",
             "gridcolor": "white",
             "linecolor": "white",
             "minorgridcolor": "white",
             "startlinecolor": "#2a3f5f"
            },
            "baxis": {
             "endlinecolor": "#2a3f5f",
             "gridcolor": "white",
             "linecolor": "white",
             "minorgridcolor": "white",
             "startlinecolor": "#2a3f5f"
            },
            "type": "carpet"
           }
          ],
          "choropleth": [
           {
            "colorbar": {
             "outlinewidth": 0,
             "ticks": ""
            },
            "type": "choropleth"
           }
          ],
          "contour": [
           {
            "colorbar": {
             "outlinewidth": 0,
             "ticks": ""
            },
            "colorscale": [
             [
              0,
              "#0d0887"
             ],
             [
              0.1111111111111111,
              "#46039f"
             ],
             [
              0.2222222222222222,
              "#7201a8"
             ],
             [
              0.3333333333333333,
              "#9c179e"
             ],
             [
              0.4444444444444444,
              "#bd3786"
             ],
             [
              0.5555555555555556,
              "#d8576b"
             ],
             [
              0.6666666666666666,
              "#ed7953"
             ],
             [
              0.7777777777777778,
              "#fb9f3a"
             ],
             [
              0.8888888888888888,
              "#fdca26"
             ],
             [
              1,
              "#f0f921"
             ]
            ],
            "type": "contour"
           }
          ],
          "contourcarpet": [
           {
            "colorbar": {
             "outlinewidth": 0,
             "ticks": ""
            },
            "type": "contourcarpet"
           }
          ],
          "heatmap": [
           {
            "colorbar": {
             "outlinewidth": 0,
             "ticks": ""
            },
            "colorscale": [
             [
              0,
              "#0d0887"
             ],
             [
              0.1111111111111111,
              "#46039f"
             ],
             [
              0.2222222222222222,
              "#7201a8"
             ],
             [
              0.3333333333333333,
              "#9c179e"
             ],
             [
              0.4444444444444444,
              "#bd3786"
             ],
             [
              0.5555555555555556,
              "#d8576b"
             ],
             [
              0.6666666666666666,
              "#ed7953"
             ],
             [
              0.7777777777777778,
              "#fb9f3a"
             ],
             [
              0.8888888888888888,
              "#fdca26"
             ],
             [
              1,
              "#f0f921"
             ]
            ],
            "type": "heatmap"
           }
          ],
          "heatmapgl": [
           {
            "colorbar": {
             "outlinewidth": 0,
             "ticks": ""
            },
            "colorscale": [
             [
              0,
              "#0d0887"
             ],
             [
              0.1111111111111111,
              "#46039f"
             ],
             [
              0.2222222222222222,
              "#7201a8"
             ],
             [
              0.3333333333333333,
              "#9c179e"
             ],
             [
              0.4444444444444444,
              "#bd3786"
             ],
             [
              0.5555555555555556,
              "#d8576b"
             ],
             [
              0.6666666666666666,
              "#ed7953"
             ],
             [
              0.7777777777777778,
              "#fb9f3a"
             ],
             [
              0.8888888888888888,
              "#fdca26"
             ],
             [
              1,
              "#f0f921"
             ]
            ],
            "type": "heatmapgl"
           }
          ],
          "histogram": [
           {
            "marker": {
             "pattern": {
              "fillmode": "overlay",
              "size": 10,
              "solidity": 0.2
             }
            },
            "type": "histogram"
           }
          ],
          "histogram2d": [
           {
            "colorbar": {
             "outlinewidth": 0,
             "ticks": ""
            },
            "colorscale": [
             [
              0,
              "#0d0887"
             ],
             [
              0.1111111111111111,
              "#46039f"
             ],
             [
              0.2222222222222222,
              "#7201a8"
             ],
             [
              0.3333333333333333,
              "#9c179e"
             ],
             [
              0.4444444444444444,
              "#bd3786"
             ],
             [
              0.5555555555555556,
              "#d8576b"
             ],
             [
              0.6666666666666666,
              "#ed7953"
             ],
             [
              0.7777777777777778,
              "#fb9f3a"
             ],
             [
              0.8888888888888888,
              "#fdca26"
             ],
             [
              1,
              "#f0f921"
             ]
            ],
            "type": "histogram2d"
           }
          ],
          "histogram2dcontour": [
           {
            "colorbar": {
             "outlinewidth": 0,
             "ticks": ""
            },
            "colorscale": [
             [
              0,
              "#0d0887"
             ],
             [
              0.1111111111111111,
              "#46039f"
             ],
             [
              0.2222222222222222,
              "#7201a8"
             ],
             [
              0.3333333333333333,
              "#9c179e"
             ],
             [
              0.4444444444444444,
              "#bd3786"
             ],
             [
              0.5555555555555556,
              "#d8576b"
             ],
             [
              0.6666666666666666,
              "#ed7953"
             ],
             [
              0.7777777777777778,
              "#fb9f3a"
             ],
             [
              0.8888888888888888,
              "#fdca26"
             ],
             [
              1,
              "#f0f921"
             ]
            ],
            "type": "histogram2dcontour"
           }
          ],
          "mesh3d": [
           {
            "colorbar": {
             "outlinewidth": 0,
             "ticks": ""
            },
            "type": "mesh3d"
           }
          ],
          "parcoords": [
           {
            "line": {
             "colorbar": {
              "outlinewidth": 0,
              "ticks": ""
             }
            },
            "type": "parcoords"
           }
          ],
          "pie": [
           {
            "automargin": true,
            "type": "pie"
           }
          ],
          "scatter": [
           {
            "marker": {
             "colorbar": {
              "outlinewidth": 0,
              "ticks": ""
             }
            },
            "type": "scatter"
           }
          ],
          "scatter3d": [
           {
            "line": {
             "colorbar": {
              "outlinewidth": 0,
              "ticks": ""
             }
            },
            "marker": {
             "colorbar": {
              "outlinewidth": 0,
              "ticks": ""
             }
            },
            "type": "scatter3d"
           }
          ],
          "scattercarpet": [
           {
            "marker": {
             "colorbar": {
              "outlinewidth": 0,
              "ticks": ""
             }
            },
            "type": "scattercarpet"
           }
          ],
          "scattergeo": [
           {
            "marker": {
             "colorbar": {
              "outlinewidth": 0,
              "ticks": ""
             }
            },
            "type": "scattergeo"
           }
          ],
          "scattergl": [
           {
            "marker": {
             "colorbar": {
              "outlinewidth": 0,
              "ticks": ""
             }
            },
            "type": "scattergl"
           }
          ],
          "scattermapbox": [
           {
            "marker": {
             "colorbar": {
              "outlinewidth": 0,
              "ticks": ""
             }
            },
            "type": "scattermapbox"
           }
          ],
          "scatterpolar": [
           {
            "marker": {
             "colorbar": {
              "outlinewidth": 0,
              "ticks": ""
             }
            },
            "type": "scatterpolar"
           }
          ],
          "scatterpolargl": [
           {
            "marker": {
             "colorbar": {
              "outlinewidth": 0,
              "ticks": ""
             }
            },
            "type": "scatterpolargl"
           }
          ],
          "scatterternary": [
           {
            "marker": {
             "colorbar": {
              "outlinewidth": 0,
              "ticks": ""
             }
            },
            "type": "scatterternary"
           }
          ],
          "surface": [
           {
            "colorbar": {
             "outlinewidth": 0,
             "ticks": ""
            },
            "colorscale": [
             [
              0,
              "#0d0887"
             ],
             [
              0.1111111111111111,
              "#46039f"
             ],
             [
              0.2222222222222222,
              "#7201a8"
             ],
             [
              0.3333333333333333,
              "#9c179e"
             ],
             [
              0.4444444444444444,
              "#bd3786"
             ],
             [
              0.5555555555555556,
              "#d8576b"
             ],
             [
              0.6666666666666666,
              "#ed7953"
             ],
             [
              0.7777777777777778,
              "#fb9f3a"
             ],
             [
              0.8888888888888888,
              "#fdca26"
             ],
             [
              1,
              "#f0f921"
             ]
            ],
            "type": "surface"
           }
          ],
          "table": [
           {
            "cells": {
             "fill": {
              "color": "#EBF0F8"
             },
             "line": {
              "color": "white"
             }
            },
            "header": {
             "fill": {
              "color": "#C8D4E3"
             },
             "line": {
              "color": "white"
             }
            },
            "type": "table"
           }
          ]
         },
         "layout": {
          "annotationdefaults": {
           "arrowcolor": "#2a3f5f",
           "arrowhead": 0,
           "arrowwidth": 1
          },
          "autotypenumbers": "strict",
          "coloraxis": {
           "colorbar": {
            "outlinewidth": 0,
            "ticks": ""
           }
          },
          "colorscale": {
           "diverging": [
            [
             0,
             "#8e0152"
            ],
            [
             0.1,
             "#c51b7d"
            ],
            [
             0.2,
             "#de77ae"
            ],
            [
             0.3,
             "#f1b6da"
            ],
            [
             0.4,
             "#fde0ef"
            ],
            [
             0.5,
             "#f7f7f7"
            ],
            [
             0.6,
             "#e6f5d0"
            ],
            [
             0.7,
             "#b8e186"
            ],
            [
             0.8,
             "#7fbc41"
            ],
            [
             0.9,
             "#4d9221"
            ],
            [
             1,
             "#276419"
            ]
           ],
           "sequential": [
            [
             0,
             "#0d0887"
            ],
            [
             0.1111111111111111,
             "#46039f"
            ],
            [
             0.2222222222222222,
             "#7201a8"
            ],
            [
             0.3333333333333333,
             "#9c179e"
            ],
            [
             0.4444444444444444,
             "#bd3786"
            ],
            [
             0.5555555555555556,
             "#d8576b"
            ],
            [
             0.6666666666666666,
             "#ed7953"
            ],
            [
             0.7777777777777778,
             "#fb9f3a"
            ],
            [
             0.8888888888888888,
             "#fdca26"
            ],
            [
             1,
             "#f0f921"
            ]
           ],
           "sequentialminus": [
            [
             0,
             "#0d0887"
            ],
            [
             0.1111111111111111,
             "#46039f"
            ],
            [
             0.2222222222222222,
             "#7201a8"
            ],
            [
             0.3333333333333333,
             "#9c179e"
            ],
            [
             0.4444444444444444,
             "#bd3786"
            ],
            [
             0.5555555555555556,
             "#d8576b"
            ],
            [
             0.6666666666666666,
             "#ed7953"
            ],
            [
             0.7777777777777778,
             "#fb9f3a"
            ],
            [
             0.8888888888888888,
             "#fdca26"
            ],
            [
             1,
             "#f0f921"
            ]
           ]
          },
          "colorway": [
           "#636efa",
           "#EF553B",
           "#00cc96",
           "#ab63fa",
           "#FFA15A",
           "#19d3f3",
           "#FF6692",
           "#B6E880",
           "#FF97FF",
           "#FECB52"
          ],
          "font": {
           "color": "#2a3f5f"
          },
          "geo": {
           "bgcolor": "white",
           "lakecolor": "white",
           "landcolor": "#E5ECF6",
           "showlakes": true,
           "showland": true,
           "subunitcolor": "white"
          },
          "hoverlabel": {
           "align": "left"
          },
          "hovermode": "closest",
          "mapbox": {
           "style": "light"
          },
          "paper_bgcolor": "white",
          "plot_bgcolor": "#E5ECF6",
          "polar": {
           "angularaxis": {
            "gridcolor": "white",
            "linecolor": "white",
            "ticks": ""
           },
           "bgcolor": "#E5ECF6",
           "radialaxis": {
            "gridcolor": "white",
            "linecolor": "white",
            "ticks": ""
           }
          },
          "scene": {
           "xaxis": {
            "backgroundcolor": "#E5ECF6",
            "gridcolor": "white",
            "gridwidth": 2,
            "linecolor": "white",
            "showbackground": true,
            "ticks": "",
            "zerolinecolor": "white"
           },
           "yaxis": {
            "backgroundcolor": "#E5ECF6",
            "gridcolor": "white",
            "gridwidth": 2,
            "linecolor": "white",
            "showbackground": true,
            "ticks": "",
            "zerolinecolor": "white"
           },
           "zaxis": {
            "backgroundcolor": "#E5ECF6",
            "gridcolor": "white",
            "gridwidth": 2,
            "linecolor": "white",
            "showbackground": true,
            "ticks": "",
            "zerolinecolor": "white"
           }
          },
          "shapedefaults": {
           "line": {
            "color": "#2a3f5f"
           }
          },
          "ternary": {
           "aaxis": {
            "gridcolor": "white",
            "linecolor": "white",
            "ticks": ""
           },
           "baxis": {
            "gridcolor": "white",
            "linecolor": "white",
            "ticks": ""
           },
           "bgcolor": "#E5ECF6",
           "caxis": {
            "gridcolor": "white",
            "linecolor": "white",
            "ticks": ""
           }
          },
          "title": {
           "x": 0.05
          },
          "xaxis": {
           "automargin": true,
           "gridcolor": "white",
           "linecolor": "white",
           "ticks": "",
           "title": {
            "standoff": 15
           },
           "zerolinecolor": "white",
           "zerolinewidth": 2
          },
          "yaxis": {
           "automargin": true,
           "gridcolor": "white",
           "linecolor": "white",
           "ticks": "",
           "title": {
            "standoff": 15
           },
           "zerolinecolor": "white",
           "zerolinewidth": 2
          }
         }
        },
        "xaxis": {
         "anchor": "y",
         "constrain": "domain",
         "domain": [
          0,
          1
         ],
         "scaleanchor": "y"
        },
        "yaxis": {
         "anchor": "x",
         "autorange": "reversed",
         "constrain": "domain",
         "domain": [
          0,
          1
         ]
        }
       }
      }
     },
     "metadata": {},
     "output_type": "display_data"
    },
    {
     "name": "stdout",
     "output_type": "stream",
     "text": [
      "lala\n",
      "lala\n"
     ]
    }
   ],
   "source": [
    "px.imshow(toy_df.corr())"
   ]
  },
  {
   "cell_type": "code",
   "execution_count": null,
   "id": "5bb392cd",
   "metadata": {},
   "outputs": [],
   "source": []
  },
  {
   "cell_type": "code",
   "execution_count": null,
   "id": "04dbb113",
   "metadata": {},
   "outputs": [],
   "source": []
  },
  {
   "cell_type": "code",
   "execution_count": 29,
   "id": "531f2b25",
   "metadata": {},
   "outputs": [
    {
     "data": {
      "text/plain": [
       "'5.6.0'"
      ]
     },
     "execution_count": 29,
     "metadata": {},
     "output_type": "execute_result"
    }
   ],
   "source": [
    "plotly.__version__"
   ]
  },
  {
   "cell_type": "code",
   "execution_count": 15,
   "id": "a7a45326",
   "metadata": {},
   "outputs": [],
   "source": [
    "categories = toy_df['target'].unique()\n",
    "if len(categories)<7:\n",
    "        fig = make_subplots(\n",
    "            cols=len(toy_df['target'].unique()), \n",
    "            rows=1, \n",
    "            subplot_titles=categories,\n",
    "            horizontal_spacing=0.05,\n",
    "            shared_yaxes=True,\n",
    "            )\n",
    "        for i, cat in enumerate(categories):\n",
    "            corr_df = toy_df[toy_df['target'] == cat].corr()\n",
    "            fig.add_trace(\n",
    "                go.Heatmap(\n",
    "                    z=corr_df, \n",
    "                    y=corr_df.columns,\n",
    "                    x=corr_df.columns,\n",
    "                    coloraxis = \"coloraxis\"\n",
    "\n",
    "                ),\n",
    "                col=1+i, row = 1)"
   ]
  },
  {
   "cell_type": "code",
   "execution_count": 16,
   "id": "fd3b3c91",
   "metadata": {},
   "outputs": [
    {
     "data": {
      "application/vnd.plotly.v1+json": {
       "config": {
        "plotlyServerURL": "https://plot.ly"
       },
       "data": [
        {
         "coloraxis": "coloraxis",
         "type": "heatmap",
         "x": [
          "sepal length (cm)",
          "sepal width (cm)",
          "petal length (cm)",
          "petal width (cm)"
         ],
         "xaxis": "x",
         "y": [
          "sepal length (cm)",
          "sepal width (cm)",
          "petal length (cm)",
          "petal width (cm)"
         ],
         "yaxis": "y",
         "z": [
          [
           1,
           0.7425466856651594,
           0.2671757588687573,
           0.2780983529359698
          ],
          [
           0.7425466856651594,
           1,
           0.1776999667822706,
           0.23275201136287915
          ],
          [
           0.2671757588687573,
           0.1776999667822706,
           1,
           0.3316300408041187
          ],
          [
           0.2780983529359698,
           0.23275201136287915,
           0.3316300408041187,
           1
          ]
         ]
        },
        {
         "coloraxis": "coloraxis",
         "type": "heatmap",
         "x": [
          "sepal length (cm)",
          "sepal width (cm)",
          "petal length (cm)",
          "petal width (cm)"
         ],
         "xaxis": "x2",
         "y": [
          "sepal length (cm)",
          "sepal width (cm)",
          "petal length (cm)",
          "petal width (cm)"
         ],
         "yaxis": "y2",
         "z": [
          [
           1,
           0.5259107172828247,
           0.754048958592016,
           0.54646107159863
          ],
          [
           0.5259107172828247,
           1,
           0.5605220916929821,
           0.6639987200241112
          ],
          [
           0.754048958592016,
           0.5605220916929821,
           1,
           0.786668088522817
          ],
          [
           0.54646107159863,
           0.6639987200241112,
           0.786668088522817,
           1
          ]
         ]
        },
        {
         "coloraxis": "coloraxis",
         "type": "heatmap",
         "x": [
          "sepal length (cm)",
          "sepal width (cm)",
          "petal length (cm)",
          "petal width (cm)"
         ],
         "xaxis": "x3",
         "y": [
          "sepal length (cm)",
          "sepal width (cm)",
          "petal length (cm)",
          "petal width (cm)"
         ],
         "yaxis": "y3",
         "z": [
          [
           1,
           0.45722781639411325,
           0.8642247329355763,
           0.2811077091573193
          ],
          [
           0.45722781639411325,
           1,
           0.40104457734278526,
           0.5377280262661884
          ],
          [
           0.8642247329355763,
           0.40104457734278526,
           1,
           0.3221082159003181
          ],
          [
           0.2811077091573193,
           0.5377280262661884,
           0.3221082159003181,
           1
          ]
         ]
        }
       ],
       "layout": {
        "annotations": [
         {
          "font": {
           "size": 16
          },
          "showarrow": false,
          "text": "0",
          "x": 0.15,
          "xanchor": "center",
          "xref": "paper",
          "y": 1,
          "yanchor": "bottom",
          "yref": "paper"
         },
         {
          "font": {
           "size": 16
          },
          "showarrow": false,
          "text": "1",
          "x": 0.49999999999999994,
          "xanchor": "center",
          "xref": "paper",
          "y": 1,
          "yanchor": "bottom",
          "yref": "paper"
         },
         {
          "font": {
           "size": 16
          },
          "showarrow": false,
          "text": "2",
          "x": 0.85,
          "xanchor": "center",
          "xref": "paper",
          "y": 1,
          "yanchor": "bottom",
          "yref": "paper"
         }
        ],
        "template": {
         "data": {
          "bar": [
           {
            "error_x": {
             "color": "#2a3f5f"
            },
            "error_y": {
             "color": "#2a3f5f"
            },
            "marker": {
             "line": {
              "color": "#E5ECF6",
              "width": 0.5
             },
             "pattern": {
              "fillmode": "overlay",
              "size": 10,
              "solidity": 0.2
             }
            },
            "type": "bar"
           }
          ],
          "barpolar": [
           {
            "marker": {
             "line": {
              "color": "#E5ECF6",
              "width": 0.5
             },
             "pattern": {
              "fillmode": "overlay",
              "size": 10,
              "solidity": 0.2
             }
            },
            "type": "barpolar"
           }
          ],
          "carpet": [
           {
            "aaxis": {
             "endlinecolor": "#2a3f5f",
             "gridcolor": "white",
             "linecolor": "white",
             "minorgridcolor": "white",
             "startlinecolor": "#2a3f5f"
            },
            "baxis": {
             "endlinecolor": "#2a3f5f",
             "gridcolor": "white",
             "linecolor": "white",
             "minorgridcolor": "white",
             "startlinecolor": "#2a3f5f"
            },
            "type": "carpet"
           }
          ],
          "choropleth": [
           {
            "colorbar": {
             "outlinewidth": 0,
             "ticks": ""
            },
            "type": "choropleth"
           }
          ],
          "contour": [
           {
            "colorbar": {
             "outlinewidth": 0,
             "ticks": ""
            },
            "colorscale": [
             [
              0,
              "#0d0887"
             ],
             [
              0.1111111111111111,
              "#46039f"
             ],
             [
              0.2222222222222222,
              "#7201a8"
             ],
             [
              0.3333333333333333,
              "#9c179e"
             ],
             [
              0.4444444444444444,
              "#bd3786"
             ],
             [
              0.5555555555555556,
              "#d8576b"
             ],
             [
              0.6666666666666666,
              "#ed7953"
             ],
             [
              0.7777777777777778,
              "#fb9f3a"
             ],
             [
              0.8888888888888888,
              "#fdca26"
             ],
             [
              1,
              "#f0f921"
             ]
            ],
            "type": "contour"
           }
          ],
          "contourcarpet": [
           {
            "colorbar": {
             "outlinewidth": 0,
             "ticks": ""
            },
            "type": "contourcarpet"
           }
          ],
          "heatmap": [
           {
            "colorbar": {
             "outlinewidth": 0,
             "ticks": ""
            },
            "colorscale": [
             [
              0,
              "#0d0887"
             ],
             [
              0.1111111111111111,
              "#46039f"
             ],
             [
              0.2222222222222222,
              "#7201a8"
             ],
             [
              0.3333333333333333,
              "#9c179e"
             ],
             [
              0.4444444444444444,
              "#bd3786"
             ],
             [
              0.5555555555555556,
              "#d8576b"
             ],
             [
              0.6666666666666666,
              "#ed7953"
             ],
             [
              0.7777777777777778,
              "#fb9f3a"
             ],
             [
              0.8888888888888888,
              "#fdca26"
             ],
             [
              1,
              "#f0f921"
             ]
            ],
            "type": "heatmap"
           }
          ],
          "heatmapgl": [
           {
            "colorbar": {
             "outlinewidth": 0,
             "ticks": ""
            },
            "colorscale": [
             [
              0,
              "#0d0887"
             ],
             [
              0.1111111111111111,
              "#46039f"
             ],
             [
              0.2222222222222222,
              "#7201a8"
             ],
             [
              0.3333333333333333,
              "#9c179e"
             ],
             [
              0.4444444444444444,
              "#bd3786"
             ],
             [
              0.5555555555555556,
              "#d8576b"
             ],
             [
              0.6666666666666666,
              "#ed7953"
             ],
             [
              0.7777777777777778,
              "#fb9f3a"
             ],
             [
              0.8888888888888888,
              "#fdca26"
             ],
             [
              1,
              "#f0f921"
             ]
            ],
            "type": "heatmapgl"
           }
          ],
          "histogram": [
           {
            "marker": {
             "pattern": {
              "fillmode": "overlay",
              "size": 10,
              "solidity": 0.2
             }
            },
            "type": "histogram"
           }
          ],
          "histogram2d": [
           {
            "colorbar": {
             "outlinewidth": 0,
             "ticks": ""
            },
            "colorscale": [
             [
              0,
              "#0d0887"
             ],
             [
              0.1111111111111111,
              "#46039f"
             ],
             [
              0.2222222222222222,
              "#7201a8"
             ],
             [
              0.3333333333333333,
              "#9c179e"
             ],
             [
              0.4444444444444444,
              "#bd3786"
             ],
             [
              0.5555555555555556,
              "#d8576b"
             ],
             [
              0.6666666666666666,
              "#ed7953"
             ],
             [
              0.7777777777777778,
              "#fb9f3a"
             ],
             [
              0.8888888888888888,
              "#fdca26"
             ],
             [
              1,
              "#f0f921"
             ]
            ],
            "type": "histogram2d"
           }
          ],
          "histogram2dcontour": [
           {
            "colorbar": {
             "outlinewidth": 0,
             "ticks": ""
            },
            "colorscale": [
             [
              0,
              "#0d0887"
             ],
             [
              0.1111111111111111,
              "#46039f"
             ],
             [
              0.2222222222222222,
              "#7201a8"
             ],
             [
              0.3333333333333333,
              "#9c179e"
             ],
             [
              0.4444444444444444,
              "#bd3786"
             ],
             [
              0.5555555555555556,
              "#d8576b"
             ],
             [
              0.6666666666666666,
              "#ed7953"
             ],
             [
              0.7777777777777778,
              "#fb9f3a"
             ],
             [
              0.8888888888888888,
              "#fdca26"
             ],
             [
              1,
              "#f0f921"
             ]
            ],
            "type": "histogram2dcontour"
           }
          ],
          "mesh3d": [
           {
            "colorbar": {
             "outlinewidth": 0,
             "ticks": ""
            },
            "type": "mesh3d"
           }
          ],
          "parcoords": [
           {
            "line": {
             "colorbar": {
              "outlinewidth": 0,
              "ticks": ""
             }
            },
            "type": "parcoords"
           }
          ],
          "pie": [
           {
            "automargin": true,
            "type": "pie"
           }
          ],
          "scatter": [
           {
            "marker": {
             "colorbar": {
              "outlinewidth": 0,
              "ticks": ""
             }
            },
            "type": "scatter"
           }
          ],
          "scatter3d": [
           {
            "line": {
             "colorbar": {
              "outlinewidth": 0,
              "ticks": ""
             }
            },
            "marker": {
             "colorbar": {
              "outlinewidth": 0,
              "ticks": ""
             }
            },
            "type": "scatter3d"
           }
          ],
          "scattercarpet": [
           {
            "marker": {
             "colorbar": {
              "outlinewidth": 0,
              "ticks": ""
             }
            },
            "type": "scattercarpet"
           }
          ],
          "scattergeo": [
           {
            "marker": {
             "colorbar": {
              "outlinewidth": 0,
              "ticks": ""
             }
            },
            "type": "scattergeo"
           }
          ],
          "scattergl": [
           {
            "marker": {
             "colorbar": {
              "outlinewidth": 0,
              "ticks": ""
             }
            },
            "type": "scattergl"
           }
          ],
          "scattermapbox": [
           {
            "marker": {
             "colorbar": {
              "outlinewidth": 0,
              "ticks": ""
             }
            },
            "type": "scattermapbox"
           }
          ],
          "scatterpolar": [
           {
            "marker": {
             "colorbar": {
              "outlinewidth": 0,
              "ticks": ""
             }
            },
            "type": "scatterpolar"
           }
          ],
          "scatterpolargl": [
           {
            "marker": {
             "colorbar": {
              "outlinewidth": 0,
              "ticks": ""
             }
            },
            "type": "scatterpolargl"
           }
          ],
          "scatterternary": [
           {
            "marker": {
             "colorbar": {
              "outlinewidth": 0,
              "ticks": ""
             }
            },
            "type": "scatterternary"
           }
          ],
          "surface": [
           {
            "colorbar": {
             "outlinewidth": 0,
             "ticks": ""
            },
            "colorscale": [
             [
              0,
              "#0d0887"
             ],
             [
              0.1111111111111111,
              "#46039f"
             ],
             [
              0.2222222222222222,
              "#7201a8"
             ],
             [
              0.3333333333333333,
              "#9c179e"
             ],
             [
              0.4444444444444444,
              "#bd3786"
             ],
             [
              0.5555555555555556,
              "#d8576b"
             ],
             [
              0.6666666666666666,
              "#ed7953"
             ],
             [
              0.7777777777777778,
              "#fb9f3a"
             ],
             [
              0.8888888888888888,
              "#fdca26"
             ],
             [
              1,
              "#f0f921"
             ]
            ],
            "type": "surface"
           }
          ],
          "table": [
           {
            "cells": {
             "fill": {
              "color": "#EBF0F8"
             },
             "line": {
              "color": "white"
             }
            },
            "header": {
             "fill": {
              "color": "#C8D4E3"
             },
             "line": {
              "color": "white"
             }
            },
            "type": "table"
           }
          ]
         },
         "layout": {
          "annotationdefaults": {
           "arrowcolor": "#2a3f5f",
           "arrowhead": 0,
           "arrowwidth": 1
          },
          "autotypenumbers": "strict",
          "coloraxis": {
           "colorbar": {
            "outlinewidth": 0,
            "ticks": ""
           }
          },
          "colorscale": {
           "diverging": [
            [
             0,
             "#8e0152"
            ],
            [
             0.1,
             "#c51b7d"
            ],
            [
             0.2,
             "#de77ae"
            ],
            [
             0.3,
             "#f1b6da"
            ],
            [
             0.4,
             "#fde0ef"
            ],
            [
             0.5,
             "#f7f7f7"
            ],
            [
             0.6,
             "#e6f5d0"
            ],
            [
             0.7,
             "#b8e186"
            ],
            [
             0.8,
             "#7fbc41"
            ],
            [
             0.9,
             "#4d9221"
            ],
            [
             1,
             "#276419"
            ]
           ],
           "sequential": [
            [
             0,
             "#0d0887"
            ],
            [
             0.1111111111111111,
             "#46039f"
            ],
            [
             0.2222222222222222,
             "#7201a8"
            ],
            [
             0.3333333333333333,
             "#9c179e"
            ],
            [
             0.4444444444444444,
             "#bd3786"
            ],
            [
             0.5555555555555556,
             "#d8576b"
            ],
            [
             0.6666666666666666,
             "#ed7953"
            ],
            [
             0.7777777777777778,
             "#fb9f3a"
            ],
            [
             0.8888888888888888,
             "#fdca26"
            ],
            [
             1,
             "#f0f921"
            ]
           ],
           "sequentialminus": [
            [
             0,
             "#0d0887"
            ],
            [
             0.1111111111111111,
             "#46039f"
            ],
            [
             0.2222222222222222,
             "#7201a8"
            ],
            [
             0.3333333333333333,
             "#9c179e"
            ],
            [
             0.4444444444444444,
             "#bd3786"
            ],
            [
             0.5555555555555556,
             "#d8576b"
            ],
            [
             0.6666666666666666,
             "#ed7953"
            ],
            [
             0.7777777777777778,
             "#fb9f3a"
            ],
            [
             0.8888888888888888,
             "#fdca26"
            ],
            [
             1,
             "#f0f921"
            ]
           ]
          },
          "colorway": [
           "#636efa",
           "#EF553B",
           "#00cc96",
           "#ab63fa",
           "#FFA15A",
           "#19d3f3",
           "#FF6692",
           "#B6E880",
           "#FF97FF",
           "#FECB52"
          ],
          "font": {
           "color": "#2a3f5f"
          },
          "geo": {
           "bgcolor": "white",
           "lakecolor": "white",
           "landcolor": "#E5ECF6",
           "showlakes": true,
           "showland": true,
           "subunitcolor": "white"
          },
          "hoverlabel": {
           "align": "left"
          },
          "hovermode": "closest",
          "mapbox": {
           "style": "light"
          },
          "paper_bgcolor": "white",
          "plot_bgcolor": "#E5ECF6",
          "polar": {
           "angularaxis": {
            "gridcolor": "white",
            "linecolor": "white",
            "ticks": ""
           },
           "bgcolor": "#E5ECF6",
           "radialaxis": {
            "gridcolor": "white",
            "linecolor": "white",
            "ticks": ""
           }
          },
          "scene": {
           "xaxis": {
            "backgroundcolor": "#E5ECF6",
            "gridcolor": "white",
            "gridwidth": 2,
            "linecolor": "white",
            "showbackground": true,
            "ticks": "",
            "zerolinecolor": "white"
           },
           "yaxis": {
            "backgroundcolor": "#E5ECF6",
            "gridcolor": "white",
            "gridwidth": 2,
            "linecolor": "white",
            "showbackground": true,
            "ticks": "",
            "zerolinecolor": "white"
           },
           "zaxis": {
            "backgroundcolor": "#E5ECF6",
            "gridcolor": "white",
            "gridwidth": 2,
            "linecolor": "white",
            "showbackground": true,
            "ticks": "",
            "zerolinecolor": "white"
           }
          },
          "shapedefaults": {
           "line": {
            "color": "#2a3f5f"
           }
          },
          "ternary": {
           "aaxis": {
            "gridcolor": "white",
            "linecolor": "white",
            "ticks": ""
           },
           "baxis": {
            "gridcolor": "white",
            "linecolor": "white",
            "ticks": ""
           },
           "bgcolor": "#E5ECF6",
           "caxis": {
            "gridcolor": "white",
            "linecolor": "white",
            "ticks": ""
           }
          },
          "title": {
           "x": 0.05
          },
          "xaxis": {
           "automargin": true,
           "gridcolor": "white",
           "linecolor": "white",
           "ticks": "",
           "title": {
            "standoff": 15
           },
           "zerolinecolor": "white",
           "zerolinewidth": 2
          },
          "yaxis": {
           "automargin": true,
           "gridcolor": "white",
           "linecolor": "white",
           "ticks": "",
           "title": {
            "standoff": 15
           },
           "zerolinecolor": "white",
           "zerolinewidth": 2
          }
         }
        },
        "xaxis": {
         "anchor": "y",
         "domain": [
          0,
          0.3
         ]
        },
        "xaxis2": {
         "anchor": "y2",
         "domain": [
          0.35,
          0.6499999999999999
         ]
        },
        "xaxis3": {
         "anchor": "y3",
         "domain": [
          0.7,
          1
         ]
        },
        "yaxis": {
         "anchor": "x",
         "domain": [
          0,
          1
         ]
        },
        "yaxis2": {
         "anchor": "x2",
         "domain": [
          0,
          1
         ],
         "matches": "y",
         "showticklabels": false
        },
        "yaxis3": {
         "anchor": "x3",
         "domain": [
          0,
          1
         ],
         "matches": "y",
         "showticklabels": false
        }
       }
      }
     },
     "metadata": {},
     "output_type": "display_data"
    },
    {
     "name": "stdout",
     "output_type": "stream",
     "text": [
      "lala\n",
      "lala\n",
      "lala\n"
     ]
    }
   ],
   "source": [
    "fig"
   ]
  },
  {
   "cell_type": "code",
   "execution_count": null,
   "id": "27032c8e",
   "metadata": {},
   "outputs": [],
   "source": []
  }
 ],
 "metadata": {
  "kernelspec": {
   "display_name": "Python 3 (ipykernel)",
   "language": "python",
   "name": "python3"
  },
  "language_info": {
   "codemirror_mode": {
    "name": "ipython",
    "version": 3
   },
   "file_extension": ".py",
   "mimetype": "text/x-python",
   "name": "python",
   "nbconvert_exporter": "python",
   "pygments_lexer": "ipython3",
   "version": "3.9.12"
  }
 },
 "nbformat": 4,
 "nbformat_minor": 5
}
